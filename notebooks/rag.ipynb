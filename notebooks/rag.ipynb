{
 "cells": [
  {
   "cell_type": "code",
   "execution_count": 25,
   "metadata": {},
   "outputs": [],
   "source": [
    "import os\n",
    "import copy\n",
    "from langchain.document_loaders import WebBaseLoader\n",
    "import bs4"
   ]
  },
  {
   "cell_type": "code",
   "execution_count": 30,
   "metadata": {},
   "outputs": [],
   "source": [
    "# load\n",
    "web_paths = (\"https://adtechbook.clearcode.cc/introduction/\",)\n",
    "\n",
    "# bs4_strainer = bs4.SoupStrainer(class_=(\"post-title\", \"post-header\", \"post-content\"))\n",
    "loader = WebBaseLoader(\n",
    "    web_paths=web_paths,\n",
    "    # bs_kwargs={\"parse_only\": bs4_strainer},\n",
    ")\n",
    "_docs = loader.load()"
   ]
  },
  {
   "cell_type": "code",
   "execution_count": 31,
   "metadata": {},
   "outputs": [],
   "source": [
    "import re\n",
    "def clean_text(text:str):\n",
    "    cleaned = re.sub(\"\\n+\", \"\\n\", text)\n",
    "    cleaned = re.sub(\"\\t+\", \"\\t\", cleaned)\n",
    "    cleaned = cleaned.strip()\n",
    "    return cleaned"
   ]
  },
  {
   "cell_type": "code",
   "execution_count": 34,
   "metadata": {},
   "outputs": [
    {
     "name": "stdout",
     "output_type": "stream",
     "text": [
      "[Document(metadata={'source': 'https://adtechbook.clearcode.cc/introduction/', 'title': '01. Introduction | The AdTech Book By Clearcode', 'description': 'The AdTech Book has been contributed to and written by various team members of Clearcode — a full-service software development house that specializes in building AdTech and MarTech platforms.', 'language': 'en-US'}, page_content='01. Introduction | The AdTech Book By Clearcode\\n \\nAsk us a question\\n01.\\n\\tIntroduction\\n\\t\\n02.\\n\\tAdvertising Basics\\n\\t\\n03.\\n\\tThe History of Digital Advertising Technology\\n\\t\\n04.\\n\\tThe Main Technology Platforms and Intermediaries in the Digital Advertising Ecosystem\\n\\t\\n05.\\n\\tThe Main Digital Advertising Mediums and Channels\\n\\t\\n06.\\n\\tAd Serving\\n\\t\\n07.\\n\\tAd Targeting and Budget Control\\n\\t\\n08.\\n\\tTracking and Reporting Impressions, Clicks, and Conversions in AdTech Platforms\\n\\t\\n09.\\n\\tMedia-Buying Methods: Programmatic, Real-Time Bidding (RTB), Header Bidding, and PMP\\n\\t\\n10.\\n\\tUser Identification\\n\\t\\n11.\\n\\tData Management Platforms (DMPs) and Data Usage\\n\\t\\n12.\\n\\tAttribution\\n\\t\\n13.\\n\\tAd Fraud and Viewability\\n\\t\\n14.\\n\\tUser Privacy in Digital Advertising\\n\\t\\n15.\\n\\tAdTech From The Vendors’ And Agencies’ Perspective\\n\\t\\n16.\\n\\tProgrammatic Advertising and AdTech in 2023: Trends, Challenges and Opportunities\\n\\t\\n01.\\n\\tIntroduction\\n\\t\\nForewordAbout the AuthorsWhy Have We Written This Book?Who Is The AdTech Book Written For?General AssumptionsHow This Book Is OrganizedConventions Used In This BookCode Examples Technical Illustrations, Explanations, And ExamplesTerminology Used In The BookAre You Using an Ad Blocker?We’d Love To Hear From YouCopyright and Reusing the Contents of the Book\\nGot questions about AdTech?Fill in the form below and ask our team\\n01.\\nIntroduction\\nForeword\\nIf you were to peel back the curtains on the ads you see on websites and mobile apps, you would be amazed at what’s happening behind the scenes. The online advertising ecosystem consists of companies, technology systems, and complex technical processes all working together to serve ads to online users across the Internet. \\nOnline advertising has brought with it a number of positives. For one, it’s provided content creators with a source of revenue so they can distribute their content for free to online users. It’s also allowed new and existing media and technology businesses to grow and thrive.\\nHowever, while the online advertising industry has experienced a number of ups, there have also been many downs. Some key examples include being hit hard by the dot-com bubble in the late 1990s/early 2000s, and more recently, the introduction of privacy laws (e.g. the GDPR) and privacy settings in browsers (e.g. Safari’s Intelligent Track Prevention) that have negatively impacted advertisers, AdTech companies, and publishers.\\nAbout the Authors\\nThe AdTech Book has been contributed to and written by various team members of Clearcode, with the main contributors being Maciej Zawadziński, Clearcode’s co-founder  and CEO of Piwik PRO, and Michael Sweeney, Head of Marketing at Clearcode. \\nThis book is the result of Clearcode’s many years of experience in designing, developing, launching, and maintaining advertising and marketing technology for our clients.\\nClearcode is a full-service AdTech and MarTech development company, led by Piotr Banaszczyk, CEO, and Tomasz Chmielewski, COO.  \\nWhy Have We Written This Book?\\nThroughout our 12+ years of designing and building advertising and marketing technology, we’ve noticed 2 things:\\nThe platforms and processes that make up AdTech are highly complex.\\nThere are very few resources out there that explain in an easy-to-understand and transparent way how online advertising works from both a fundamental and technical perspective.\\nIt came to our attention that we were essentially sitting on a gold mine of knowledge that we could share with others.\\nAnd thus the idea of The AdTech Book was created.\\nWho Is The AdTech Book Written For?\\nThe AdTech Book is ideal for anyone wanting to learn about the history of online advertising and understand how the different elements of the digital advertising technology ecosystem work, what their roles are, and the relationships between different parties in the industry.\\nEven though the book contains a lot of highly technical and detailed explanations, we’ve tried to write the AdTech Book in the most straightforward way possible so that anyone can read and understand the contents of the book.\\nMore specifically, the book will greatly benefit:\\nC-level executives and founders at advertising and marketing companies.\\nAdvertisers and marketers who work in-house or at advertising agencies. \\nProgrammers and technical teams that build advertising and marketing technology.\\nPublishers and content creators who monetize their content with advertising. \\nRegular, everyday web surfers who want to learn how online advertising works. \\nGeneral Assumptions\\nThis book assumes that you grasp the concept of how ads are used to monetize websites and promote products and services. This book does not assume that you have any kind of technical knowledge of how the platforms and processes work, however if you do, then you will find that it is a lot easier to understand the technical explanations covered throughout the book.\\nHow This Book Is Organized\\nThe first few chapters of the book introduce the history of online advertising and set the scene for the subsequent chapters. \\nWe cover the fundamentals of digital advertising and then slowly start to introduce the platforms, intermediaries, and technical processes. \\nTo view the contents of a particular chapter, first navigate to the chapter by selecting it from the menu on the left (or via the menu icon at the top of the screen if on a mobile device) and then click on the icon with the three horizontal lines.\\nTo view the contents of the chapter, click on the icon with the three horizontal lines. \\nYou can use the left arrow to return to the previous chapter, the right arrow to navigate to the next chapter, and the home button to return to the home page. \\nConventions Used In This Book\\nBold\\nUsed in lists and sentences to highlight important terms, e.g:\\nBrand awareness (aka branding): The main goal is to reach a broad consumer audience, engage with them, and maximize the time they are exposed to the brand.\\nItalics\\nUsed to highlight a specific term in a sentence, e.g:\\nA publisher can be defined as any company that produces content that attracts an audience. \\nBold and italics\\nIndicates new terms, e.g:\\nAdvertising Technology (Ad Tech, AdTech, adtech, ad tech, ad technology) refers to the software and tools used to create, run, manage, measure, and optimize online media campaigns.\\nItalics, underline and bold\\nUsed when referring to chapters for further reading, e.g:\\nSee the chapter The Main Digital Advertising Mediums and Channels for more information about the different types of digital advertisements.\\nThroughout this book, you’ll see light grey boxes like this one. These boxes have 2 purposes\\nExplain certain terms located in the surrounding text.\\nProvide interesting facts related to the topics being discussed.\\nCode Examples \\nThe code examples featured in this book are used for explanation purposes only. They are not designed to be copied and used unless stated otherwise.\\n<a href=\"https://www.advertisers-landing-page.com\"> <img src=\"http://advertisement1.jpg\"> </a>\\nTechnical Illustrations, Explanations, And Examples\\nThroughout this book, whenever we illustrate, explain, or provide an example of a technical aspect (e.g. a process such as server-side video header bidding) we are doing so in the most common or straightforward way possible in order to avoid the concept being lost in a sea of confusion. \\nIt’s also worth noting that there is often more than one way to carry out the technical processes mentioned in this book.\\nAn illustration about how server-side video header bidding works\\nTerminology Used In The Book\\nYou’ll notice that in this book we refer to the same thing by different names. For example: \\nInventory, also known as ad space or online media, is the available space a publisher has on their site or app. \\nThis is common within the online advertising industry, but to avoid confusion, we will aim to only use one term throughout the book. \\nThe only exception to this are the terms online advertising and digital advertising. Although these terms are not synonymous with one another, we’ll use both terms sparingly throughout the book to refer to the same thing — advertising delivered and displayed on the Internet or digital devices.\\nYou can view a list of popular terms in our AdTech glossary.  \\nAre You Using an Ad Blocker?\\nAlthough we don’t show ads in our AdTech Book, it is full of terms related to advertising.\\xa0\\nAs a result, some ad-blocking tools may detect these terms and prevent them from appearing. For example, in chapter 02. Advertising Basics, Ghostery blocks the headline Ad Space from displaying.\\xa0\\xa0\\nWe’ve tried our best not to include advertising-related keywords in the title or alt text of our images, so most images should still appear.\\xa0\\nIf you’d like to see all the content, then you can disable your ad-blocking tool temporarily. You can refer to our Privacy Policy for information about the types of marketing tools we use on this website.\\xa0\\nWe’d Love To Hear From You\\nWe’ve written this book for you, so if there is something you think we can add or improve on, please feel free to contact us and let us know. \\nThe contents and information in this book have undergone numerous iterations and edits, however, mistakes and oversights can occur. \\nIf you happen to find any errors or simply want to provide feedback, then please contact us via adtechbook@clearcode.cc  or by clicking on the ASK US A QUESTION button in the top menu and we’ll review and apply them to further editions. \\nWe can also be contacted via the following channels:\\nWeb: clearcode.ccLinkedIn: linkedin.com/clearcodeTwitter: @clearcodehqFacebook: facebook.com/clearcode\\nCopyright and Reusing the Contents of the Book\\nCopyright © 2017 by Clearcode Services S.A.\\nAll rights reserved.\\nNo part of this publication may be reproduced, distributed, or transmitted in any form or by any means, including photocopying, recording, or other electronic or mechanical methods, without the prior written permission of the publisher. For permission requests, contact Michael Sweeney at adtechbook@clearcode.cc.\\nBook Cover by Clearcode Services S.A.\\nIllustrations by Clearcode Services S.A.\\nIf you would like to use or reference parts of the AdTech Book in online articles, blog posts, research papers, books and other materials, then please provide the original source, for example “Source: The AdTech Book by Clearcode” and “Source: Chapter 02. Advertising Basics, The AdTech Book by Clearcode, 2023”.\\nIf you would like to translate The AdTech Book or parts of it into a different language, then please get in contact with Michael Sweeney at adtechbook@clearcode.cc for permission requests.\\nNext\\n02.\\nAdvertising Basics')]\n"
     ]
    }
   ],
   "source": [
    "docs = copy.deepcopy(_docs)\n",
    "# print(docs)\n",
    "for doc in docs:\n",
    "    doc.page_content = clean_text(doc.page_content)\n",
    "print(docs)"
   ]
  },
  {
   "cell_type": "code",
   "execution_count": 27,
   "metadata": {},
   "outputs": [
    {
     "data": {
      "text/plain": [
       "14"
      ]
     },
     "execution_count": 27,
     "metadata": {},
     "output_type": "execute_result"
    }
   ],
   "source": [
    "# splits\n",
    "from langchain_text_splitters import RecursiveCharacterTextSplitter\n",
    "\n",
    "text_splitter = RecursiveCharacterTextSplitter(\n",
    "    chunk_size=1000, chunk_overlap=200, add_start_index=True\n",
    ")\n",
    "all_splits = text_splitter.split_documents(docs)\n",
    "\n",
    "len(all_splits)"
   ]
  },
  {
   "cell_type": "code",
   "execution_count": 28,
   "metadata": {},
   "outputs": [
    {
     "data": {
      "text/plain": [
       "[Document(metadata={'source': 'https://adtechbook.clearcode.cc/introduction/', 'title': '01. Introduction | The AdTech Book By Clearcode', 'description': 'The AdTech Book has been contributed to and written by various team members of Clearcode — a full-service software development house that specializes in building AdTech and MarTech platforms.', 'language': 'en-US', 'start_index': 0}, page_content='01. Introduction | The AdTech Book By Clearcode\\n \\nAsk us a question\\n01.\\n\\tIntroduction\\n\\t\\n02.\\n\\tAdvertising Basics\\n\\t\\n03.\\n\\tThe History of Digital Advertising Technology\\n\\t\\n04.\\n\\tThe Main Technology Platforms and Intermediaries in the Digital Advertising Ecosystem\\n\\t\\n05.\\n\\tThe Main Digital Advertising Mediums and Channels\\n\\t\\n06.\\n\\tAd Serving\\n\\t\\n07.\\n\\tAd Targeting and Budget Control\\n\\t\\n08.\\n\\tTracking and Reporting Impressions, Clicks, and Conversions in AdTech Platforms\\n\\t\\n09.\\n\\tMedia-Buying Methods: Programmatic, Real-Time Bidding (RTB), Header Bidding, and PMP\\n\\t\\n10.\\n\\tUser Identification\\n\\t\\n11.\\n\\tData Management Platforms (DMPs) and Data Usage\\n\\t\\n12.\\n\\tAttribution\\n\\t\\n13.\\n\\tAd Fraud and Viewability\\n\\t\\n14.\\n\\tUser Privacy in Digital Advertising\\n\\t\\n15.\\n\\tAdTech From The Vendors’ And Agencies’ Perspective\\n\\t\\n16.\\n\\tProgrammatic Advertising and AdTech in 2023: Trends, Challenges and Opportunities\\n\\t\\n01.\\n\\tIntroduction'),\n",
       " Document(metadata={'source': 'https://adtechbook.clearcode.cc/introduction/', 'title': '01. Introduction | The AdTech Book By Clearcode', 'description': 'The AdTech Book has been contributed to and written by various team members of Clearcode — a full-service software development house that specializes in building AdTech and MarTech platforms.', 'language': 'en-US', 'start_index': 729}, page_content='15.\\n\\tAdTech From The Vendors’ And Agencies’ Perspective\\n\\t\\n16.\\n\\tProgrammatic Advertising and AdTech in 2023: Trends, Challenges and Opportunities\\n\\t\\n01.\\n\\tIntroduction\\n\\t\\nForewordAbout the AuthorsWhy Have We Written This Book?Who Is The AdTech Book Written For?General AssumptionsHow This Book Is OrganizedConventions Used In This BookCode Examples Technical Illustrations, Explanations, And ExamplesTerminology Used In The BookAre You Using an Ad Blocker?We’d Love To Hear From YouCopyright and Reusing the Contents of the Book\\nGot questions about AdTech?Fill in the form below and ask our team\\n01.\\nIntroduction\\nForeword\\nIf you were to peel back the curtains on the ads you see on websites and mobile apps, you would be amazed at what’s happening behind the scenes. The online advertising ecosystem consists of companies, technology systems, and complex technical processes all working together to serve ads to online users across the Internet.'),\n",
       " Document(metadata={'source': 'https://adtechbook.clearcode.cc/introduction/', 'title': '01. Introduction | The AdTech Book By Clearcode', 'description': 'The AdTech Book has been contributed to and written by various team members of Clearcode — a full-service software development house that specializes in building AdTech and MarTech platforms.', 'language': 'en-US', 'start_index': 1672}, page_content='Online advertising has brought with it a number of positives. For one, it’s provided content creators with a source of revenue so they can distribute their content for free to online users. It’s also allowed new and existing media and technology businesses to grow and thrive.\\nHowever, while the online advertising industry has experienced a number of ups, there have also been many downs. Some key examples include being hit hard by the dot-com bubble in the late 1990s/early 2000s, and more recently, the introduction of privacy laws (e.g. the GDPR) and privacy settings in browsers (e.g. Safari’s Intelligent Track Prevention) that have negatively impacted advertisers, AdTech companies, and publishers.\\nAbout the Authors\\nThe AdTech Book has been contributed to and written by various team members of Clearcode, with the main contributors being Maciej Zawadziński, Clearcode’s co-founder  and CEO of Piwik PRO, and Michael Sweeney, Head of Marketing at Clearcode.'),\n",
       " Document(metadata={'source': 'https://adtechbook.clearcode.cc/introduction/', 'title': '01. Introduction | The AdTech Book By Clearcode', 'description': 'The AdTech Book has been contributed to and written by various team members of Clearcode — a full-service software development house that specializes in building AdTech and MarTech platforms.', 'language': 'en-US', 'start_index': 2640}, page_content='This book is the result of Clearcode’s many years of experience in designing, developing, launching, and maintaining advertising and marketing technology for our clients.\\nClearcode is a full-service AdTech and MarTech development company, led by Piotr Banaszczyk, CEO, and Tomasz Chmielewski, COO.  \\nWhy Have We Written This Book?\\nThroughout our 12+ years of designing and building advertising and marketing technology, we’ve noticed 2 things:\\nThe platforms and processes that make up AdTech are highly complex.\\nThere are very few resources out there that explain in an easy-to-understand and transparent way how online advertising works from both a fundamental and technical perspective.\\nIt came to our attention that we were essentially sitting on a gold mine of knowledge that we could share with others.\\nAnd thus the idea of The AdTech Book was created.\\nWho Is The AdTech Book Written For?'),\n",
       " Document(metadata={'source': 'https://adtechbook.clearcode.cc/introduction/', 'title': '01. Introduction | The AdTech Book By Clearcode', 'description': 'The AdTech Book has been contributed to and written by various team members of Clearcode — a full-service software development house that specializes in building AdTech and MarTech platforms.', 'language': 'en-US', 'start_index': 3448}, page_content='And thus the idea of The AdTech Book was created.\\nWho Is The AdTech Book Written For?\\nThe AdTech Book is ideal for anyone wanting to learn about the history of online advertising and understand how the different elements of the digital advertising technology ecosystem work, what their roles are, and the relationships between different parties in the industry.\\nEven though the book contains a lot of highly technical and detailed explanations, we’ve tried to write the AdTech Book in the most straightforward way possible so that anyone can read and understand the contents of the book.\\nMore specifically, the book will greatly benefit:\\nC-level executives and founders at advertising and marketing companies.\\nAdvertisers and marketers who work in-house or at advertising agencies. \\nProgrammers and technical teams that build advertising and marketing technology.\\nPublishers and content creators who monetize their content with advertising.'),\n",
       " Document(metadata={'source': 'https://adtechbook.clearcode.cc/introduction/', 'title': '01. Introduction | The AdTech Book By Clearcode', 'description': 'The AdTech Book has been contributed to and written by various team members of Clearcode — a full-service software development house that specializes in building AdTech and MarTech platforms.', 'language': 'en-US', 'start_index': 4231}, page_content='Programmers and technical teams that build advertising and marketing technology.\\nPublishers and content creators who monetize their content with advertising. \\nRegular, everyday web surfers who want to learn how online advertising works. \\nGeneral Assumptions\\nThis book assumes that you grasp the concept of how ads are used to monetize websites and promote products and services. This book does not assume that you have any kind of technical knowledge of how the platforms and processes work, however if you do, then you will find that it is a lot easier to understand the technical explanations covered throughout the book.\\nHow This Book Is Organized\\nThe first few chapters of the book introduce the history of online advertising and set the scene for the subsequent chapters. \\nWe cover the fundamentals of digital advertising and then slowly start to introduce the platforms, intermediaries, and technical processes.'),\n",
       " Document(metadata={'source': 'https://adtechbook.clearcode.cc/introduction/', 'title': '01. Introduction | The AdTech Book By Clearcode', 'description': 'The AdTech Book has been contributed to and written by various team members of Clearcode — a full-service software development house that specializes in building AdTech and MarTech platforms.', 'language': 'en-US', 'start_index': 5009}, page_content='We cover the fundamentals of digital advertising and then slowly start to introduce the platforms, intermediaries, and technical processes. \\nTo view the contents of a particular chapter, first navigate to the chapter by selecting it from the menu on the left (or via the menu icon at the top of the screen if on a mobile device) and then click on the icon with the three horizontal lines.\\nTo view the contents of the chapter, click on the icon with the three horizontal lines. \\nYou can use the left arrow to return to the previous chapter, the right arrow to navigate to the next chapter, and the home button to return to the home page. \\nConventions Used In This Book\\nBold\\nUsed in lists and sentences to highlight important terms, e.g:\\nBrand awareness (aka branding): The main goal is to reach a broad consumer audience, engage with them, and maximize the time they are exposed to the brand.\\nItalics\\nUsed to highlight a specific term in a sentence, e.g:'),\n",
       " Document(metadata={'source': 'https://adtechbook.clearcode.cc/introduction/', 'title': '01. Introduction | The AdTech Book By Clearcode', 'description': 'The AdTech Book has been contributed to and written by various team members of Clearcode — a full-service software development house that specializes in building AdTech and MarTech platforms.', 'language': 'en-US', 'start_index': 5901}, page_content='Italics\\nUsed to highlight a specific term in a sentence, e.g:\\nA publisher can be defined as any company that produces content that attracts an audience. \\nBold and italics\\nIndicates new terms, e.g:\\nAdvertising Technology (Ad Tech, AdTech, adtech, ad tech, ad technology) refers to the software and tools used to create, run, manage, measure, and optimize online media campaigns.\\nItalics, underline and bold\\nUsed when referring to chapters for further reading, e.g:\\nSee the chapter The Main Digital Advertising Mediums and Channels for more information about the different types of digital advertisements.\\nThroughout this book, you’ll see light grey boxes like this one. These boxes have 2 purposes\\nExplain certain terms located in the surrounding text.\\nProvide interesting facts related to the topics being discussed.\\nCode Examples \\nThe code examples featured in this book are used for explanation purposes only. They are not designed to be copied and used unless stated otherwise.'),\n",
       " Document(metadata={'source': 'https://adtechbook.clearcode.cc/introduction/', 'title': '01. Introduction | The AdTech Book By Clearcode', 'description': 'The AdTech Book has been contributed to and written by various team members of Clearcode — a full-service software development house that specializes in building AdTech and MarTech platforms.', 'language': 'en-US', 'start_index': 6718}, page_content='Code Examples \\nThe code examples featured in this book are used for explanation purposes only. They are not designed to be copied and used unless stated otherwise.\\n<a href=\"https://www.advertisers-landing-page.com\"> <img src=\"http://advertisement1.jpg\"> </a>\\nTechnical Illustrations, Explanations, And Examples\\nThroughout this book, whenever we illustrate, explain, or provide an example of a technical aspect (e.g. a process such as server-side video header bidding) we are doing so in the most common or straightforward way possible in order to avoid the concept being lost in a sea of confusion. \\nIt’s also worth noting that there is often more than one way to carry out the technical processes mentioned in this book.\\nAn illustration about how server-side video header bidding works\\nTerminology Used In The Book\\nYou’ll notice that in this book we refer to the same thing by different names. For example:'),\n",
       " Document(metadata={'source': 'https://adtechbook.clearcode.cc/introduction/', 'title': '01. Introduction | The AdTech Book By Clearcode', 'description': 'The AdTech Book has been contributed to and written by various team members of Clearcode — a full-service software development house that specializes in building AdTech and MarTech platforms.', 'language': 'en-US', 'start_index': 7440}, page_content='An illustration about how server-side video header bidding works\\nTerminology Used In The Book\\nYou’ll notice that in this book we refer to the same thing by different names. For example: \\nInventory, also known as ad space or online media, is the available space a publisher has on their site or app. \\nThis is common within the online advertising industry, but to avoid confusion, we will aim to only use one term throughout the book. \\nThe only exception to this are the terms online advertising and digital advertising. Although these terms are not synonymous with one another, we’ll use both terms sparingly throughout the book to refer to the same thing — advertising delivered and displayed on the Internet or digital devices.\\nYou can view a list of popular terms in our AdTech glossary.  \\nAre You Using an Ad Blocker?\\nAlthough we don’t show ads in our AdTech Book, it is full of terms related to advertising.'),\n",
       " Document(metadata={'source': 'https://adtechbook.clearcode.cc/introduction/', 'title': '01. Introduction | The AdTech Book By Clearcode', 'description': 'The AdTech Book has been contributed to and written by various team members of Clearcode — a full-service software development house that specializes in building AdTech and MarTech platforms.', 'language': 'en-US', 'start_index': 8169}, page_content='You can view a list of popular terms in our AdTech glossary.  \\nAre You Using an Ad Blocker?\\nAlthough we don’t show ads in our AdTech Book, it is full of terms related to advertising.\\xa0\\nAs a result, some ad-blocking tools may detect these terms and prevent them from appearing. For example, in chapter 02. Advertising Basics, Ghostery blocks the headline Ad Space from displaying.\\xa0\\xa0\\nWe’ve tried our best not to include advertising-related keywords in the title or alt text of our images, so most images should still appear.\\xa0\\nIf you’d like to see all the content, then you can disable your ad-blocking tool temporarily. You can refer to our Privacy Policy for information about the types of marketing tools we use on this website.\\xa0\\nWe’d Love To Hear From You\\nWe’ve written this book for you, so if there is something you think we can add or improve on, please feel free to contact us and let us know.'),\n",
       " Document(metadata={'source': 'https://adtechbook.clearcode.cc/introduction/', 'title': '01. Introduction | The AdTech Book By Clearcode', 'description': 'The AdTech Book has been contributed to and written by various team members of Clearcode — a full-service software development house that specializes in building AdTech and MarTech platforms.', 'language': 'en-US', 'start_index': 8898}, page_content='We’d Love To Hear From You\\nWe’ve written this book for you, so if there is something you think we can add or improve on, please feel free to contact us and let us know. \\nThe contents and information in this book have undergone numerous iterations and edits, however, mistakes and oversights can occur. \\nIf you happen to find any errors or simply want to provide feedback, then please contact us via adtechbook@clearcode.cc  or by clicking on the ASK US A QUESTION button in the top menu and we’ll review and apply them to further editions. \\nWe can also be contacted via the following channels:\\nWeb: clearcode.ccLinkedIn: linkedin.com/clearcodeTwitter: @clearcodehqFacebook: facebook.com/clearcode\\nCopyright and Reusing the Contents of the Book\\nCopyright © 2017 by Clearcode Services S.A.\\nAll rights reserved.'),\n",
       " Document(metadata={'source': 'https://adtechbook.clearcode.cc/introduction/', 'title': '01. Introduction | The AdTech Book By Clearcode', 'description': 'The AdTech Book has been contributed to and written by various team members of Clearcode — a full-service software development house that specializes in building AdTech and MarTech platforms.', 'language': 'en-US', 'start_index': 9595}, page_content='Copyright and Reusing the Contents of the Book\\nCopyright © 2017 by Clearcode Services S.A.\\nAll rights reserved.\\nNo part of this publication may be reproduced, distributed, or transmitted in any form or by any means, including photocopying, recording, or other electronic or mechanical methods, without the prior written permission of the publisher. For permission requests, contact Michael Sweeney at adtechbook@clearcode.cc.\\nBook Cover by Clearcode Services S.A.\\nIllustrations by Clearcode Services S.A.\\nIf you would like to use or reference parts of the AdTech Book in online articles, blog posts, research papers, books and other materials, then please provide the original source, for example “Source: The AdTech Book by Clearcode” and “Source: Chapter 02. Advertising Basics, The AdTech Book by Clearcode, 2023”.'),\n",
       " Document(metadata={'source': 'https://adtechbook.clearcode.cc/introduction/', 'title': '01. Introduction | The AdTech Book By Clearcode', 'description': 'The AdTech Book has been contributed to and written by various team members of Clearcode — a full-service software development house that specializes in building AdTech and MarTech platforms.', 'language': 'en-US', 'start_index': 10413}, page_content='If you would like to translate The AdTech Book or parts of it into a different language, then please get in contact with Michael Sweeney at adtechbook@clearcode.cc for permission requests.\\nNext\\n02.\\nAdvertising Basics')]"
      ]
     },
     "execution_count": 28,
     "metadata": {},
     "output_type": "execute_result"
    }
   ],
   "source": [
    "all_splits"
   ]
  },
  {
   "cell_type": "code",
   "execution_count": 40,
   "metadata": {},
   "outputs": [],
   "source": [
    "# store\n",
    "from langchain_chroma import Chroma\n",
    "from langchain_community.embeddings.huggingface import HuggingFaceBgeEmbeddings\n",
    "\n",
    "embeddings = HuggingFaceBgeEmbeddings(model_name=\"BAAI/bge-small-en-v1.5\")\n",
    "persist_directory = \"\"\n",
    "\n",
    "vectorstore = Chroma.from_documents(documents=all_splits, embedding=embeddings, persist_directory=\"./.chroma\")"
   ]
  },
  {
   "cell_type": "code",
   "execution_count": 53,
   "metadata": {},
   "outputs": [
    {
     "data": {
      "text/plain": [
       "[Document(metadata={'description': 'The AdTech Book has been contributed to and written by various team members of Clearcode — a full-service software development house that specializes in building AdTech and MarTech platforms.', 'language': 'en-US', 'source': 'https://adtechbook.clearcode.cc/introduction/', 'start_index': 3448, 'title': '01. Introduction | The AdTech Book By Clearcode'}, page_content='And thus the idea of The AdTech Book was created.\\nWho Is The AdTech Book Written For?\\nThe AdTech Book is ideal for anyone wanting to learn about the history of online advertising and understand how the different elements of the digital advertising technology ecosystem work, what their roles are, and the relationships between different parties in the industry.\\nEven though the book contains a lot of highly technical and detailed explanations, we’ve tried to write the AdTech Book in the most straightforward way possible so that anyone can read and understand the contents of the book.\\nMore specifically, the book will greatly benefit:\\nC-level executives and founders at advertising and marketing companies.\\nAdvertisers and marketers who work in-house or at advertising agencies. \\nProgrammers and technical teams that build advertising and marketing technology.\\nPublishers and content creators who monetize their content with advertising.'),\n",
       " Document(metadata={'description': 'The AdTech Book has been contributed to and written by various team members of Clearcode — a full-service software development house that specializes in building AdTech and MarTech platforms.', 'language': 'en-US', 'source': 'https://adtechbook.clearcode.cc/introduction/', 'start_index': 9595, 'title': '01. Introduction | The AdTech Book By Clearcode'}, page_content='Copyright and Reusing the Contents of the Book\\nCopyright © 2017 by Clearcode Services S.A.\\nAll rights reserved.\\nNo part of this publication may be reproduced, distributed, or transmitted in any form or by any means, including photocopying, recording, or other electronic or mechanical methods, without the prior written permission of the publisher. For permission requests, contact Michael Sweeney at adtechbook@clearcode.cc.\\nBook Cover by Clearcode Services S.A.\\nIllustrations by Clearcode Services S.A.\\nIf you would like to use or reference parts of the AdTech Book in online articles, blog posts, research papers, books and other materials, then please provide the original source, for example “Source: The AdTech Book by Clearcode” and “Source: Chapter 02. Advertising Basics, The AdTech Book by Clearcode, 2023”.'),\n",
       " Document(metadata={'description': 'The AdTech Book has been contributed to and written by various team members of Clearcode — a full-service software development house that specializes in building AdTech and MarTech platforms.', 'language': 'en-US', 'source': 'https://adtechbook.clearcode.cc/introduction/', 'start_index': 8898, 'title': '01. Introduction | The AdTech Book By Clearcode'}, page_content='We’d Love To Hear From You\\nWe’ve written this book for you, so if there is something you think we can add or improve on, please feel free to contact us and let us know. \\nThe contents and information in this book have undergone numerous iterations and edits, however, mistakes and oversights can occur. \\nIf you happen to find any errors or simply want to provide feedback, then please contact us via adtechbook@clearcode.cc  or by clicking on the ASK US A QUESTION button in the top menu and we’ll review and apply them to further editions. \\nWe can also be contacted via the following channels:\\nWeb: clearcode.ccLinkedIn: linkedin.com/clearcodeTwitter: @clearcodehqFacebook: facebook.com/clearcode\\nCopyright and Reusing the Contents of the Book\\nCopyright © 2017 by Clearcode Services S.A.\\nAll rights reserved.'),\n",
       " Document(metadata={'description': 'The AdTech Book has been contributed to and written by various team members of Clearcode — a full-service software development house that specializes in building AdTech and MarTech platforms.', 'language': 'en-US', 'source': 'https://adtechbook.clearcode.cc/introduction/', 'start_index': 4231, 'title': '01. Introduction | The AdTech Book By Clearcode'}, page_content='Programmers and technical teams that build advertising and marketing technology.\\nPublishers and content creators who monetize their content with advertising. \\nRegular, everyday web surfers who want to learn how online advertising works. \\nGeneral Assumptions\\nThis book assumes that you grasp the concept of how ads are used to monetize websites and promote products and services. This book does not assume that you have any kind of technical knowledge of how the platforms and processes work, however if you do, then you will find that it is a lot easier to understand the technical explanations covered throughout the book.\\nHow This Book Is Organized\\nThe first few chapters of the book introduce the history of online advertising and set the scene for the subsequent chapters. \\nWe cover the fundamentals of digital advertising and then slowly start to introduce the platforms, intermediaries, and technical processes.'),\n",
       " Document(metadata={'description': 'The AdTech Book has been contributed to and written by various team members of Clearcode — a full-service software development house that specializes in building AdTech and MarTech platforms.', 'language': 'en-US', 'source': 'https://adtechbook.clearcode.cc/introduction/', 'start_index': 5009, 'title': '01. Introduction | The AdTech Book By Clearcode'}, page_content='We cover the fundamentals of digital advertising and then slowly start to introduce the platforms, intermediaries, and technical processes. \\nTo view the contents of a particular chapter, first navigate to the chapter by selecting it from the menu on the left (or via the menu icon at the top of the screen if on a mobile device) and then click on the icon with the three horizontal lines.\\nTo view the contents of the chapter, click on the icon with the three horizontal lines. \\nYou can use the left arrow to return to the previous chapter, the right arrow to navigate to the next chapter, and the home button to return to the home page. \\nConventions Used In This Book\\nBold\\nUsed in lists and sentences to highlight important terms, e.g:\\nBrand awareness (aka branding): The main goal is to reach a broad consumer audience, engage with them, and maximize the time they are exposed to the brand.\\nItalics\\nUsed to highlight a specific term in a sentence, e.g:'),\n",
       " Document(metadata={'description': 'The AdTech Book has been contributed to and written by various team members of Clearcode — a full-service software development house that specializes in building AdTech and MarTech platforms.', 'language': 'en-US', 'source': 'https://adtechbook.clearcode.cc/introduction/', 'start_index': 729, 'title': '01. Introduction | The AdTech Book By Clearcode'}, page_content='15.\\n\\tAdTech From The Vendors’ And Agencies’ Perspective\\n\\t\\n16.\\n\\tProgrammatic Advertising and AdTech in 2023: Trends, Challenges and Opportunities\\n\\t\\n01.\\n\\tIntroduction\\n\\t\\nForewordAbout the AuthorsWhy Have We Written This Book?Who Is The AdTech Book Written For?General AssumptionsHow This Book Is OrganizedConventions Used In This BookCode Examples Technical Illustrations, Explanations, And ExamplesTerminology Used In The BookAre You Using an Ad Blocker?We’d Love To Hear From YouCopyright and Reusing the Contents of the Book\\nGot questions about AdTech?Fill in the form below and ask our team\\n01.\\nIntroduction\\nForeword\\nIf you were to peel back the curtains on the ads you see on websites and mobile apps, you would be amazed at what’s happening behind the scenes. The online advertising ecosystem consists of companies, technology systems, and complex technical processes all working together to serve ads to online users across the Internet.')]"
      ]
     },
     "execution_count": 53,
     "metadata": {},
     "output_type": "execute_result"
    }
   ],
   "source": [
    "# retrieve\n",
    "retriever = vectorstore.as_retriever(search_type=\"similarity\", search_kwargs={\"k\": 6})\n",
    "retrieved_docs = retriever.invoke(\"Who is this Book for?\")\n",
    "retrieved_docs"
   ]
  },
  {
   "cell_type": "code",
   "execution_count": 54,
   "metadata": {},
   "outputs": [
    {
     "name": "stdout",
     "output_type": "stream",
     "text": [
      "And thus the idea of The AdTech Book was created.\n",
      "Who Is The AdTech Book Written For?\n",
      "The AdTech Book is ideal for anyone wanting to learn about the history of online advertising and understand how the different elements of the digital advertising technology ecosystem work, what their roles are, and the relationships between different parties in the industry.\n",
      "Even though the book contains a lot of highly technical and detailed explanations, we’ve tried to write the AdTech Book in the most straightforward way possible so that anyone can read and understand the contents of the book.\n",
      "More specifically, the book will greatly benefit:\n",
      "C-level executives and founders at advertising and marketing companies.\n",
      "Advertisers and marketers who work in-house or at advertising agencies. \n",
      "Programmers and technical teams that build advertising and marketing technology.\n",
      "Publishers and content creators who monetize their content with advertising.\n"
     ]
    }
   ],
   "source": [
    "print(retrieved_docs[0].page_content)"
   ]
  },
  {
   "cell_type": "code",
   "execution_count": 63,
   "metadata": {},
   "outputs": [],
   "source": [
    "from langchain_core.prompts import ChatPromptTemplate\n",
    "\n",
    "prompt = ChatPromptTemplate.from_messages(\n",
    "    [\n",
    "        (\n",
    "            \"human\",\n",
    "            (\n",
    "                \"You are an assistant for question-answering tasks. \"\n",
    "                \"Use the following pieces of retrieved context to answer the question. \"\n",
    "                \"If you don't know the answer, just say that you don't know. \"\n",
    "                \"Use three sentences maximum and keep the answer concise. \\n\"\n",
    "                \"Question: {question} \\n\"\n",
    "                \"Context: {context} \\n\"\n",
    "                \"Answer:\"\n",
    "            ),\n",
    "        ),\n",
    "    ]\n",
    ")"
   ]
  },
  {
   "cell_type": "code",
   "execution_count": 66,
   "metadata": {},
   "outputs": [
    {
     "name": "stdout",
     "output_type": "stream",
     "text": [
      "You are an assistant for question-answering tasks. Use the following pieces of retrieved context to answer the question. If you don't know the answer, just say that you don't know. Use three sentences maximum and keep the answer concise. \n",
      "Question: filler question \n",
      "Context: filler context \n",
      "Answer:\n"
     ]
    }
   ],
   "source": [
    "example_messages = prompt.invoke({\n",
    "    \"context\": \"filler context\",\n",
    "    \"question\": \"filler question\"\n",
    "}).to_messages()\n",
    "print(example_messages[0].content)"
   ]
  },
  {
   "cell_type": "code",
   "execution_count": 86,
   "metadata": {},
   "outputs": [],
   "source": [
    "from langchain_community.chat_models.ollama import ChatOllama\n",
    "from langchain_core.language_models.chat_models import BaseChatModel\n",
    "\n",
    "llm = ChatOllama(model_name=\"phi3\")\n",
    "\n",
    "def format_docs(docs):\n",
    "    return \"\\n\\n\".join(doc.page_content for doc in docs)\n",
    "\n",
    "def invoke_chat(user_input: str, k=3, llm: BaseChatModel = None):\n",
    "    context = retriever.invoke(user_input, k=k)\n",
    "    context = format_docs(context)\n",
    "    message = prompt.invoke({\n",
    "        \"context\": context,\n",
    "        \"question\": user_input\n",
    "    })\n",
    "    if llm:\n",
    "        message = llm.invoke(message)\n",
    "    return message"
   ]
  },
  {
   "cell_type": "code",
   "execution_count": 87,
   "metadata": {},
   "outputs": [],
   "source": [
    "from langchain_core.output_parsers import StrOutputParser\n",
    "from langchain_core.runnables import RunnablePassthrough\n",
    "rag_chain = (\n",
    "    {\"context\": retriever | format_docs, \"question\": RunnablePassthrough()} | prompt\n",
    ")"
   ]
  },
  {
   "cell_type": "code",
   "execution_count": 88,
   "metadata": {},
   "outputs": [
    {
     "data": {
      "text/plain": [
       "ChatPromptValue(messages=[HumanMessage(content=\"You are an assistant for question-answering tasks. Use the following pieces of retrieved context to answer the question. If you don't know the answer, just say that you don't know. Use three sentences maximum and keep the answer concise. \\nQuestion: who is this book for? \\nContext: And thus the idea of The AdTech Book was created.\\nWho Is The AdTech Book Written For?\\nThe AdTech Book is ideal for anyone wanting to learn about the history of online advertising and understand how the different elements of the digital advertising technology ecosystem work, what their roles are, and the relationships between different parties in the industry.\\nEven though the book contains a lot of highly technical and detailed explanations, we’ve tried to write the AdTech Book in the most straightforward way possible so that anyone can read and understand the contents of the book.\\nMore specifically, the book will greatly benefit:\\nC-level executives and founders at advertising and marketing companies.\\nAdvertisers and marketers who work in-house or at advertising agencies. \\nProgrammers and technical teams that build advertising and marketing technology.\\nPublishers and content creators who monetize their content with advertising.\\n\\nCopyright and Reusing the Contents of the Book\\nCopyright © 2017 by Clearcode Services S.A.\\nAll rights reserved.\\nNo part of this publication may be reproduced, distributed, or transmitted in any form or by any means, including photocopying, recording, or other electronic or mechanical methods, without the prior written permission of the publisher. For permission requests, contact Michael Sweeney at adtechbook@clearcode.cc.\\nBook Cover by Clearcode Services S.A.\\nIllustrations by Clearcode Services S.A.\\nIf you would like to use or reference parts of the AdTech Book in online articles, blog posts, research papers, books and other materials, then please provide the original source, for example “Source: The AdTech Book by Clearcode” and “Source: Chapter 02. Advertising Basics, The AdTech Book by Clearcode, 2023”.\\n\\nWe’d Love To Hear From You\\nWe’ve written this book for you, so if there is something you think we can add or improve on, please feel free to contact us and let us know. \\nThe contents and information in this book have undergone numerous iterations and edits, however, mistakes and oversights can occur. \\nIf you happen to find any errors or simply want to provide feedback, then please contact us via adtechbook@clearcode.cc  or by clicking on the ASK US A QUESTION button in the top menu and we’ll review and apply them to further editions. \\nWe can also be contacted via the following channels:\\nWeb: clearcode.ccLinkedIn: linkedin.com/clearcodeTwitter: @clearcodehqFacebook: facebook.com/clearcode\\nCopyright and Reusing the Contents of the Book\\nCopyright © 2017 by Clearcode Services S.A.\\nAll rights reserved.\\n\\nProgrammers and technical teams that build advertising and marketing technology.\\nPublishers and content creators who monetize their content with advertising. \\nRegular, everyday web surfers who want to learn how online advertising works. \\nGeneral Assumptions\\nThis book assumes that you grasp the concept of how ads are used to monetize websites and promote products and services. This book does not assume that you have any kind of technical knowledge of how the platforms and processes work, however if you do, then you will find that it is a lot easier to understand the technical explanations covered throughout the book.\\nHow This Book Is Organized\\nThe first few chapters of the book introduce the history of online advertising and set the scene for the subsequent chapters. \\nWe cover the fundamentals of digital advertising and then slowly start to introduce the platforms, intermediaries, and technical processes.\\n\\nWe cover the fundamentals of digital advertising and then slowly start to introduce the platforms, intermediaries, and technical processes. \\nTo view the contents of a particular chapter, first navigate to the chapter by selecting it from the menu on the left (or via the menu icon at the top of the screen if on a mobile device) and then click on the icon with the three horizontal lines.\\nTo view the contents of the chapter, click on the icon with the three horizontal lines. \\nYou can use the left arrow to return to the previous chapter, the right arrow to navigate to the next chapter, and the home button to return to the home page. \\nConventions Used In This Book\\nBold\\nUsed in lists and sentences to highlight important terms, e.g:\\nBrand awareness (aka branding): The main goal is to reach a broad consumer audience, engage with them, and maximize the time they are exposed to the brand.\\nItalics\\nUsed to highlight a specific term in a sentence, e.g:\\n\\n15.\\n\\tAdTech From The Vendors’ And Agencies’ Perspective\\n\\t\\n16.\\n\\tProgrammatic Advertising and AdTech in 2023: Trends, Challenges and Opportunities\\n\\t\\n01.\\n\\tIntroduction\\n\\t\\nForewordAbout the AuthorsWhy Have We Written This Book?Who Is The AdTech Book Written For?General AssumptionsHow This Book Is OrganizedConventions Used In This BookCode Examples Technical Illustrations, Explanations, And ExamplesTerminology Used In The BookAre You Using an Ad Blocker?We’d Love To Hear From YouCopyright and Reusing the Contents of the Book\\nGot questions about AdTech?Fill in the form below and ask our team\\n01.\\nIntroduction\\nForeword\\nIf you were to peel back the curtains on the ads you see on websites and mobile apps, you would be amazed at what’s happening behind the scenes. The online advertising ecosystem consists of companies, technology systems, and complex technical processes all working together to serve ads to online users across the Internet. \\nAnswer:\")])"
      ]
     },
     "execution_count": 88,
     "metadata": {},
     "output_type": "execute_result"
    }
   ],
   "source": [
    "rag_chain.invoke(\"who is this book for?\")"
   ]
  },
  {
   "cell_type": "code",
   "execution_count": 93,
   "metadata": {},
   "outputs": [],
   "source": [
    "response = invoke_chat(\"who wrote this book?\", k=3, llm=llm)"
   ]
  },
  {
   "cell_type": "code",
   "execution_count": 94,
   "metadata": {},
   "outputs": [
    {
     "name": "stdout",
     "output_type": "stream",
     "text": [
      "The book \"The AdTech Book\" was written by Clearcode Services S.A. for various audiences, including C-level executives, advertisers, marketers, programmers, and content creators. The book aims to provide a comprehensive understanding of the history of online advertising, the different platforms and processes involved, and the relationships between various parties in the industry. The authors, Piotr Banaszczyk and Tomasz Chmielewski, are experienced professionals in the AdTech industry and created the book as a resource for those looking to learn about the subject matter.\n"
     ]
    }
   ],
   "source": [
    "print(response.content)"
   ]
  },
  {
   "cell_type": "code",
   "execution_count": null,
   "metadata": {},
   "outputs": [],
   "source": []
  }
 ],
 "metadata": {
  "kernelspec": {
   "display_name": "qachatbot",
   "language": "python",
   "name": "python3"
  },
  "language_info": {
   "codemirror_mode": {
    "name": "ipython",
    "version": 3
   },
   "file_extension": ".py",
   "mimetype": "text/x-python",
   "name": "python",
   "nbconvert_exporter": "python",
   "pygments_lexer": "ipython3",
   "version": "3.11.9"
  }
 },
 "nbformat": 4,
 "nbformat_minor": 2
}
